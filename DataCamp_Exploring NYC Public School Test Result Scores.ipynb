{
 "cells": [
  {
   "cell_type": "markdown",
   "id": "5b0c2229",
   "metadata": {},
   "source": [
    "## DataCamp Exploring NYC Public School Test Result Scores\n",
    "\n",
    "Every year, American high school students take SATs, which are standardized tests intended to measure literacy, numeracy, and writing skills. There are three sections - reading, math, and writing, each with a maximum score of 800 points. These tests are extremely important for students and colleges, as they play a pivotal role in the admissions process.\n",
    "\n",
    "Analyzing the performance of schools is important for a variety of stakeholders, including policy and education professionals, researchers, government, and even parents considering which school their children should attend.\n",
    "\n",
    "You have been provided with a dataset called schools.csv, which is previewed below.\n",
    "\n",
    "You have been tasked with answering three key questions about New York City (NYC) public school SAT performance."
   ]
  },
  {
   "cell_type": "markdown",
   "id": "098901b6",
   "metadata": {},
   "source": [
    "## Import and Explore Data"
   ]
  },
  {
   "cell_type": "code",
   "execution_count": 1,
   "id": "2a46ca44",
   "metadata": {},
   "outputs": [
    {
     "data": {
      "text/html": [
       "<div>\n",
       "<style scoped>\n",
       "    .dataframe tbody tr th:only-of-type {\n",
       "        vertical-align: middle;\n",
       "    }\n",
       "\n",
       "    .dataframe tbody tr th {\n",
       "        vertical-align: top;\n",
       "    }\n",
       "\n",
       "    .dataframe thead th {\n",
       "        text-align: right;\n",
       "    }\n",
       "</style>\n",
       "<table border=\"1\" class=\"dataframe\">\n",
       "  <thead>\n",
       "    <tr style=\"text-align: right;\">\n",
       "      <th></th>\n",
       "      <th>school_name</th>\n",
       "      <th>borough</th>\n",
       "      <th>building_code</th>\n",
       "      <th>average_math</th>\n",
       "      <th>average_reading</th>\n",
       "      <th>average_writing</th>\n",
       "      <th>percent_tested</th>\n",
       "    </tr>\n",
       "  </thead>\n",
       "  <tbody>\n",
       "    <tr>\n",
       "      <th>0</th>\n",
       "      <td>New Explorations into Science, Technology and ...</td>\n",
       "      <td>Manhattan</td>\n",
       "      <td>M022</td>\n",
       "      <td>657</td>\n",
       "      <td>601</td>\n",
       "      <td>601</td>\n",
       "      <td>NaN</td>\n",
       "    </tr>\n",
       "    <tr>\n",
       "      <th>1</th>\n",
       "      <td>Essex Street Academy</td>\n",
       "      <td>Manhattan</td>\n",
       "      <td>M445</td>\n",
       "      <td>395</td>\n",
       "      <td>411</td>\n",
       "      <td>387</td>\n",
       "      <td>78.9</td>\n",
       "    </tr>\n",
       "    <tr>\n",
       "      <th>2</th>\n",
       "      <td>Lower Manhattan Arts Academy</td>\n",
       "      <td>Manhattan</td>\n",
       "      <td>M445</td>\n",
       "      <td>418</td>\n",
       "      <td>428</td>\n",
       "      <td>415</td>\n",
       "      <td>65.1</td>\n",
       "    </tr>\n",
       "    <tr>\n",
       "      <th>3</th>\n",
       "      <td>High School for Dual Language and Asian Studies</td>\n",
       "      <td>Manhattan</td>\n",
       "      <td>M445</td>\n",
       "      <td>613</td>\n",
       "      <td>453</td>\n",
       "      <td>463</td>\n",
       "      <td>95.9</td>\n",
       "    </tr>\n",
       "    <tr>\n",
       "      <th>4</th>\n",
       "      <td>Henry Street School for International Studies</td>\n",
       "      <td>Manhattan</td>\n",
       "      <td>M056</td>\n",
       "      <td>410</td>\n",
       "      <td>406</td>\n",
       "      <td>381</td>\n",
       "      <td>59.7</td>\n",
       "    </tr>\n",
       "  </tbody>\n",
       "</table>\n",
       "</div>"
      ],
      "text/plain": [
       "                                         school_name    borough building_code  \\\n",
       "0  New Explorations into Science, Technology and ...  Manhattan          M022   \n",
       "1                               Essex Street Academy  Manhattan          M445   \n",
       "2                       Lower Manhattan Arts Academy  Manhattan          M445   \n",
       "3    High School for Dual Language and Asian Studies  Manhattan          M445   \n",
       "4      Henry Street School for International Studies  Manhattan          M056   \n",
       "\n",
       "   average_math  average_reading  average_writing  percent_tested  \n",
       "0           657              601              601             NaN  \n",
       "1           395              411              387            78.9  \n",
       "2           418              428              415            65.1  \n",
       "3           613              453              463            95.9  \n",
       "4           410              406              381            59.7  "
      ]
     },
     "execution_count": 1,
     "metadata": {},
     "output_type": "execute_result"
    }
   ],
   "source": [
    "# Re-run this cell \n",
    "import pandas as pd\n",
    "\n",
    "# Read in the data\n",
    "schools = pd.read_csv(\"schools.csv\")\n",
    "\n",
    "# Preview the data\n",
    "schools.head()"
   ]
  },
  {
   "cell_type": "code",
   "execution_count": 2,
   "id": "0a393134",
   "metadata": {
    "scrolled": true
   },
   "outputs": [
    {
     "name": "stdout",
     "output_type": "stream",
     "text": [
      "(375, 7)\n",
      "<class 'pandas.core.frame.DataFrame'>\n",
      "RangeIndex: 375 entries, 0 to 374\n",
      "Data columns (total 7 columns):\n",
      " #   Column           Non-Null Count  Dtype  \n",
      "---  ------           --------------  -----  \n",
      " 0   school_name      375 non-null    object \n",
      " 1   borough          375 non-null    object \n",
      " 2   building_code    375 non-null    object \n",
      " 3   average_math     375 non-null    int64  \n",
      " 4   average_reading  375 non-null    int64  \n",
      " 5   average_writing  375 non-null    int64  \n",
      " 6   percent_tested   355 non-null    float64\n",
      "dtypes: float64(1), int64(3), object(3)\n",
      "memory usage: 20.6+ KB\n",
      "None\n",
      "       average_math  average_reading  average_writing  percent_tested\n",
      "count    375.000000       375.000000       375.000000      355.000000\n",
      "mean     432.944000       424.504000       418.458667       64.976338\n",
      "std       71.952373        61.881069        64.548599       18.747634\n",
      "min      317.000000       302.000000       284.000000       18.500000\n",
      "25%      386.000000       386.000000       382.000000       50.950000\n",
      "50%      415.000000       413.000000       403.000000       64.800000\n",
      "75%      458.500000       445.000000       437.500000       79.600000\n",
      "max      754.000000       697.000000       693.000000      100.000000\n"
     ]
    }
   ],
   "source": [
    "#Exploring the data\n",
    "print(schools.shape)\n",
    "print(schools.info())\n",
    "print(schools.describe())"
   ]
  },
  {
   "cell_type": "markdown",
   "id": "81855874",
   "metadata": {},
   "source": [
    "## Task #1\n",
    "\n",
    "### Which NYC schools have the best math results?\n",
    "\n",
    "\n",
    "The best math results are at least 80% of the *maximum possible score of 800* for math.\n",
    "\n",
    "Save your results in a pandas DataFrame called best_math_schools, including \"school_name\" and \"average_math\" columns, sorted by \"average_math\" in descending order."
   ]
  },
  {
   "cell_type": "code",
   "execution_count": 3,
   "id": "d9a379a3",
   "metadata": {},
   "outputs": [
    {
     "name": "stdout",
     "output_type": "stream",
     "text": [
      "                                           school_name  average_math\n",
      "88                              Stuyvesant High School           754\n",
      "170                       Bronx High School of Science           714\n",
      "93                 Staten Island Technical High School           711\n",
      "365  Queens High School for the Sciences at York Co...           701\n",
      "68   High School for Mathematics, Science, and Engi...           683\n",
      "280                     Brooklyn Technical High School           682\n",
      "333                        Townsend Harris High School           680\n",
      "174  High School of American Studies at Lehman College           669\n",
      "0    New Explorations into Science, Technology and ...           657\n",
      "45                       Eleanor Roosevelt High School           641\n"
     ]
    }
   ],
   "source": [
    "#Define the target results\n",
    "target = 800*80/100\n",
    "\n",
    "#Subset schools by target\n",
    "best_math_score = schools[schools['average_math'] >= target]\n",
    "\n",
    "#Assign the schools name sorted by their scores in descending order to best_math_schools\n",
    "best_math_schools = best_math_score[['school_name','average_math']].sort_values('average_math', ascending = False)\n",
    "\n",
    "#Print the results\n",
    "print(best_math_schools )"
   ]
  },
  {
   "cell_type": "markdown",
   "id": "77809bfc",
   "metadata": {},
   "source": [
    "## Task #2\n",
    "### What are the top 10 performing schools based on the combined SAT scores?\n",
    "\n",
    "Save your results as a pandas DataFrame called top_10_schools containing the \"school_name\" and a new column named \"total_SAT\", with results ordered by \"total_SAT\" in descending order."
   ]
  },
  {
   "cell_type": "code",
   "execution_count": 4,
   "id": "854e6a77",
   "metadata": {},
   "outputs": [
    {
     "name": "stdout",
     "output_type": "stream",
     "text": [
      "                                           school_name  total_SAT\n",
      "88                              Stuyvesant High School       2144\n",
      "170                       Bronx High School of Science       2041\n",
      "93                 Staten Island Technical High School       2041\n",
      "174  High School of American Studies at Lehman College       2013\n",
      "333                        Townsend Harris High School       1981\n",
      "365  Queens High School for the Sciences at York Co...       1947\n",
      "5                       Bard High School Early College       1914\n",
      "280                     Brooklyn Technical High School       1896\n",
      "45                       Eleanor Roosevelt High School       1889\n",
      "68   High School for Mathematics, Science, and Engi...       1889\n"
     ]
    }
   ],
   "source": [
    "#Creating a total_SAT column\n",
    "schools['total_SAT'] = schools['average_math'] + schools['average_reading'] + schools['average_writing']\n",
    "\n",
    "#Sorting by total_SAT descending and storing this to schools_score\n",
    "schools_score = schools.sort_values('total_SAT', ascending=False)\n",
    "\n",
    "#Subsetting schools_score by school name and total SAT then choosing the first 10 rows\n",
    "top_10_schools = schools_score[['school_name','total_SAT']].iloc[0:10]\n",
    "\n",
    "#Print the results\n",
    "print(top_10_schools)"
   ]
  },
  {
   "cell_type": "markdown",
   "id": "cabf49ef",
   "metadata": {},
   "source": [
    "## Task #3\n",
    "### Which single borough has the largest standard deviation in the combined SAT score?\n",
    "\n",
    "Save your results as a pandas DataFrame called largest_std_dev.\n",
    "\n",
    "The DataFrame should contain one row, with:\n",
    "\n",
    "    \"borough\" - the name of the NYC borough with the largest standard deviation of \"total_SAT\".\n",
    "\n",
    "    \"num_schools\" - the number of schools in the borough.\n",
    "\n",
    "    \"average_SAT\" - the mean of \"total_SAT\".\n",
    "   \n",
    "    \"std_SAT\" - the standard deviation of \"total_SAT\".\n",
    "\n",
    "Round all numeric values to two decimal places."
   ]
  },
  {
   "cell_type": "code",
   "execution_count": 5,
   "id": "7f8205cf",
   "metadata": {
    "scrolled": true
   },
   "outputs": [
    {
     "name": "stdout",
     "output_type": "stream",
     "text": [
      "                  mean     std  count\n",
      "borough                              \n",
      "Manhattan      1340.13  230.29     89\n",
      "Staten Island  1439.00  222.30     10\n",
      "Queens         1345.48  195.25     69\n",
      "Brooklyn       1230.26  154.87    109\n",
      "Bronx          1202.72  150.39     98\n",
      "     borough  average_SAT  num_schools  std_SAT\n",
      "0  Manhattan      1340.13           89   230.29\n"
     ]
    },
    {
     "name": "stderr",
     "output_type": "stream",
     "text": [
      "C:\\Users\\jagbe\\AppData\\Local\\Temp\\ipykernel_17328\\7018094.py:5: FutureWarning: The provided callable <function mean at 0x00000218426E5080> is currently using SeriesGroupBy.mean. In a future version of pandas, the provided callable will be used directly. To keep current behavior pass the string \"mean\" instead.\n",
      "  largest_std_groupby = (round(schools.groupby('borough')['total_SAT'].agg([np.mean, 'std', 'count']).sort_values('std', ascending = False), 2))\n"
     ]
    }
   ],
   "source": [
    "#import numpy for the mean\n",
    "import numpy as np\n",
    "\n",
    "#Calculate the std, count, and mean rounded by 2 groupedby borough. Then sort by std descending\n",
    "largest_std_groupby = (round(schools.groupby('borough')['total_SAT'].agg([np.mean, 'std', 'count']).sort_values('std', ascending = False), 2))\n",
    "\n",
    "#Print the results to apply the calculations\n",
    "print(largest_std_groupby)\n",
    "\n",
    "#Create an empty dictionary to assign the values\n",
    "largest_std_dev  = {\n",
    "    'borough': [],\n",
    "    'average_SAT': [],\n",
    "    'num_schools': [],\n",
    "    'std_SAT': []\n",
    "} \n",
    "\n",
    "#Assign the results as a list to the dictionary\n",
    "largest_std_dev['borough'] = ['Manhattan']\n",
    "largest_std_dev['num_schools'] = [largest_std_groupby.iloc[0, 2]]\n",
    "largest_std_dev['average_SAT'] = [largest_std_groupby.iloc[0,0]]\n",
    "largest_std_dev['std_SAT'] = [largest_std_groupby.iloc[0,1]]\n",
    "\n",
    "#Convert the dictionary to the dataframe\n",
    "largest_std_dev = pd.DataFrame(largest_std_dev)\n",
    "\n",
    "#Print the results\n",
    "print(largest_std_dev)"
   ]
  }
 ],
 "metadata": {
  "kernelspec": {
   "display_name": "Python 3 (ipykernel)",
   "language": "python",
   "name": "python3"
  },
  "language_info": {
   "codemirror_mode": {
    "name": "ipython",
    "version": 3
   },
   "file_extension": ".py",
   "mimetype": "text/x-python",
   "name": "python",
   "nbconvert_exporter": "python",
   "pygments_lexer": "ipython3",
   "version": "3.11.7"
  }
 },
 "nbformat": 4,
 "nbformat_minor": 5
}
